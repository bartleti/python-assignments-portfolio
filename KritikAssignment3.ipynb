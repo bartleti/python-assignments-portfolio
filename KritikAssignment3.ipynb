{
 "cells": [
  {
   "cell_type": "code",
   "execution_count": 5,
   "id": "8c7b5bf2-d589-4a46-a17f-8a42dfb47f1c",
   "metadata": {},
   "outputs": [
    {
     "ename": "SyntaxError",
     "evalue": "invalid syntax. Perhaps you forgot a comma? (1499752076.py, line 24)",
     "output_type": "error",
     "traceback": [
      "\u001b[0;36m  Cell \u001b[0;32mIn[5], line 24\u001b[0;36m\u001b[0m\n\u001b[0;31m    if abs(f(x1) - linear_approximation(x1) < E or abs(f(x1) - linear_approximation(x1)) > E\u001b[0m\n\u001b[0m           ^\u001b[0m\n\u001b[0;31mSyntaxError\u001b[0m\u001b[0;31m:\u001b[0m invalid syntax. Perhaps you forgot a comma?\n"
     ]
    }
   ],
   "source": [
    "import numpy as np\n",
    "\n",
    "#desired function, c value, and error\n",
    "f = lambda x: np.sin(x)\n",
    "c = np.pi/4\n",
    "E = 0.05\n",
    "\n",
    "delta_x = 10**-8\n",
    "\n",
    "def centeral_difference_derivative (x):\n",
    "    return f((c+delta_x) - f(c-delta_x))/(2*delta_x)\n",
    "\n",
    "def linear_approximation(x):\n",
    "    return f(c) + centeral_difference_derivative(c)*(x-c)\n",
    "\n",
    "def absolute_error(x):\n",
    "    return abs(f(x)-linear_approximation) - E\n",
    "\n",
    "#find x1 and x2 values very close to c\n",
    "x1 = c - delta_x\n",
    "x2 = c + delta_x\n",
    "\n",
    "#x1 < c\n",
    "if abs(f(x1) - linear_approximation(x1) < E or abs(f(x1) - linear_approximation(x1)) > E\n",
    "    x1-= delta_x\n",
    "    print(f\"x1 = {x1}\")\n",
    "else:\n",
    "    print(\"x1 was not in range\")\n",
    "\n",
    "#x2 > c\n",
    "if abs(f(x1) - linear_approximation(x1) < E or abs(f(x2) - linear_approximation(x2)) > E\n",
    "    x2-= delta_x\n",
    "    print(f\"x2 = {x2}\")\n",
    "else:\n",
    "    print(\"x2 was not in range\")\n",
    "\n",
    "print(\"The approximation error equals\" + str(E))"
   ]
  },
  {
   "cell_type": "code",
   "execution_count": 4,
   "id": "79eed310-47c9-4c17-adf4-a0977c027a01",
   "metadata": {},
   "outputs": [
    {
     "name": "stdout",
     "output_type": "stream",
     "text": [
      "x1 = 0.7853981533974482 is within the tolerance\n",
      "x2 = 0.7853981733974483 is within the tolerance\n",
      "The approximation error tolerance is 0.05\n"
     ]
    }
   ],
   "source": [
    "import numpy as np\n",
    "\n",
    "# Desired function, c value, and error tolerance\n",
    "f = lambda x: np.sin(x)\n",
    "c = np.pi / 4\n",
    "E = 0.05\n",
    "\n",
    "# Step size for approximation\n",
    "delta_x = 10**-8 \n",
    "\n",
    "# Central difference formula for derivative\n",
    "def central_difference_derivative(x):\n",
    "    return (f(x + delta_x) - f(x - delta_x)) / (2 * delta_x)\n",
    "\n",
    "# Linear approximation using the derivative\n",
    "def linear_approximation(x):\n",
    "    return f(c) + central_difference_derivative(c) * (x - c)\n",
    "\n",
    "# Absolute error function\n",
    "def absolute_error(x):\n",
    "    return abs(f(x) - linear_approximation(x))\n",
    "\n",
    "# Find x1 and x2 values very close to c\n",
    "x1 = c - delta_x\n",
    "x2 = c + delta_x\n",
    "\n",
    "# Check x1 < c for error\n",
    "if absolute_error(x1) < E:\n",
    "    print(f\"x1 = {x1} is within the tolerance\")\n",
    "else:\n",
    "    print(f\"x1 = {x1} is not within the tolerance\")\n",
    "\n",
    "# Check x2 > c for error\n",
    "if absolute_error(x2) < E:\n",
    "    print(f\"x2 = {x2} is within the tolerance\")\n",
    "else:\n",
    "    print(f\"x2 = {x2} is not within the tolerance\")\n",
    "\n",
    "print(f\"The approximation error tolerance is {E}\")"
   ]
  },
  {
   "cell_type": "code",
   "execution_count": null,
   "id": "e7c6f383-c270-4bcd-a22c-b6a2bf7eed0b",
   "metadata": {},
   "outputs": [],
   "source": []
  }
 ],
 "metadata": {
  "kernelspec": {
   "display_name": "Python 3 (ipykernel)",
   "language": "python",
   "name": "python3"
  },
  "language_info": {
   "codemirror_mode": {
    "name": "ipython",
    "version": 3
   },
   "file_extension": ".py",
   "mimetype": "text/x-python",
   "name": "python",
   "nbconvert_exporter": "python",
   "pygments_lexer": "ipython3",
   "version": "3.11.9"
  }
 },
 "nbformat": 4,
 "nbformat_minor": 5
}
