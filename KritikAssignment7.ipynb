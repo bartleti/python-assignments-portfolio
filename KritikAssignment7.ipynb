{
 "cells": [
  {
   "cell_type": "code",
   "execution_count": 2,
   "id": "e26ac047-efc3-4a45-bc9b-ceec09b01b07",
   "metadata": {},
   "outputs": [
    {
     "name": "stdout",
     "output_type": "stream",
     "text": [
      "t* value = 2.7764451051977987\n"
     ]
    }
   ],
   "source": [
    "import numpy as np\n",
    "import scipy.stats as stats\n",
    "\n",
    "def t_distribution_inverse(prob, nu, x_start=0, x_end=20, num_points=10000):\n",
    "    x = np.linspace(x_start, x_end, num_points)\n",
    "    y = stats.t.pdf(x, nu)  # Corrected recursive call\n",
    "    cdf = np.cumsum(y) * (x[1] - x[0])  # Approximate CDF using numerical integration\n",
    "\n",
    "    target_half_prob = prob / 2\n",
    "    index = np.where(cdf >= target_half_prob)[0][0]\n",
    "    return x[index]\n",
    "\n",
    "# Example usage:\n",
    "house = [1, 2, 3, 4, 5]  # Define house to avoid NameError\n",
    "df = len(house) - 1  # Degrees of freedom\n",
    "t_star = stats.t.ppf(0.975, df)  # 97.5th percentile of t-distribution\n",
    "print(\"t* value =\", t_star)"
   ]
  },
  {
   "cell_type": "code",
   "execution_count": 8,
   "id": "7714e942-f2e0-4165-a629-cc8cd4f25a6b",
   "metadata": {},
   "outputs": [
    {
     "name": "stdout",
     "output_type": "stream",
     "text": [
      "mean = 0.0\n",
      "standard dev= 350.84000000000003\n"
     ]
    }
   ],
   "source": [
    "house = [92, 89, 85, 97, 83, 67, 82, 78, 78, 83]\n",
    "total = 0\n",
    "mean = total/len(house)\n",
    "\n",
    "squared = 0\n",
    "for num in house:\n",
    "    squared += (num - mean)**2\n",
    "stdev = (squared/len(house)-1)*0.05\n",
    "\n",
    "print(\"mean =\", mean)\n",
    "print(\"standard dev=\", stdev)"
   ]
  },
  {
   "cell_type": "code",
   "execution_count": 9,
   "id": "8df8dc97-2749-4200-9a41-af87947ea81e",
   "metadata": {},
   "outputs": [
    {
     "name": "stdout",
     "output_type": "stream",
     "text": [
      "t-value = -0.6760085067627079\n"
     ]
    }
   ],
   "source": [
    "navg = 75\n",
    "t_value = (mean - navg)/(stdev/len(house)**0.5)\n",
    "print(\"t-value =\", t_value)"
   ]
  },
  {
   "cell_type": "code",
   "execution_count": 10,
   "id": "2886d190-aa06-433c-a8b9-d4a53979f4b8",
   "metadata": {},
   "outputs": [
    {
     "name": "stdout",
     "output_type": "stream",
     "text": [
      "no strong evidence that u doesn't equal 75\n",
      "the new technique = lower scores\n"
     ]
    }
   ],
   "source": [
    "def in_range(t0, t_star):\n",
    "    \"returns true if t0 is within [-t*, t*] otherwise false\"\n",
    "    return abs (t0) <= t_star\n",
    "\n",
    "result = in_range(t_value, t_star)\n",
    "\n",
    "if result:\n",
    "    print(\"no strong evidence that u doesn't equal 75\")\n",
    "else:\n",
    "    print(\"strong evidence that u doesn't equal 75\")\n",
    "\n",
    "if t_value > 0:\n",
    "    print(\"the new technique = higher scores\")\n",
    "elif t_value < 0:\n",
    "    print(\"the new technique = lower scores\")\n",
    "else:\n",
    "    print(\"no impact\")"
   ]
  },
  {
   "cell_type": "code",
   "execution_count": null,
   "id": "e4849dbb-9b4d-4e92-a6e7-f6cdc05178ac",
   "metadata": {},
   "outputs": [],
   "source": []
  }
 ],
 "metadata": {
  "kernelspec": {
   "display_name": "Python 3 (ipykernel)",
   "language": "python",
   "name": "python3"
  },
  "language_info": {
   "codemirror_mode": {
    "name": "ipython",
    "version": 3
   },
   "file_extension": ".py",
   "mimetype": "text/x-python",
   "name": "python",
   "nbconvert_exporter": "python",
   "pygments_lexer": "ipython3",
   "version": "3.12.8"
  }
 },
 "nbformat": 4,
 "nbformat_minor": 5
}
